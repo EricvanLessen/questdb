{
  "nbformat": 4,
  "nbformat_minor": 0,
  "metadata": {
    "colab": {
      "provenance": []
    },
    "kernelspec": {
      "name": "python3",
      "display_name": "Python 3"
    },
    "language_info": {
      "name": "python"
    }
  },
  "cells": [
    {
      "cell_type": "markdown",
      "source": [
        "Pulling the QuestDB image and creating a docker container"
      ],
      "metadata": {
        "id": "iLpaVzd9j5QU"
      }
    },
    {
      "cell_type": "code",
      "execution_count": null,
      "metadata": {
        "id": "V1pMBR5tj3Za"
      },
      "outputs": [],
      "source": [
        "!docker run -p 9000:9000 -p 8812:8812 questdb/questdb"
      ]
    },
    {
      "cell_type": "markdown",
      "source": [
        "Create db"
      ],
      "metadata": {
        "id": "OR6dfDkVkDFf"
      }
    },
    {
      "cell_type": "code",
      "source": [
        "import requests\n",
        "import urllib.parse as par\n",
        "\n",
        "q = 'create table weather'\\\n",
        "    '(temp int,'\\\n",
        "    'rain24H double,'\\\n",
        "    'thunder boolean,'\\\n",
        "    'timestamp timestamp)'\\\n",
        "    'timestamp(timestamp)'\n",
        "r = requests.get(\"http://localhost:9000/exec?query=\" + q)\n",
        "print(r.status_code)"
      ],
      "metadata": {
        "id": "siLggvTUkIj3"
      },
      "execution_count": null,
      "outputs": []
    },
    {
      "cell_type": "markdown",
      "source": [
        "Adding data to QuestDB"
      ],
      "metadata": {
        "id": "C-TtlbCqkI_t"
      }
    },
    {
      "cell_type": "code",
      "source": [
        "import requests\n",
        "import random\n",
        "from datetime import datetime\n",
        "success = 0\n",
        "fail = 0\n",
        "random.seed()\n",
        "for x in range(1000):\n",
        "    temp = random.randint(-40, 55)\n",
        "    rain24H = round(random.uniform(10.45, 235.15), 2)\n",
        "    thunder = bool(random.getrandbits(1))\n",
        "    query = \"insert into weather values(\"\\\n",
        "        + str(temp) + \",\"\\\n",
        "        + str(rain24H) + \",\" \\\n",
        "        + str(thunder) +\",systimestamp())\"\n",
        "    r = requests.get(\"http://localhost:9000/exec?query=\" + query)\n",
        "    if r.status_code == 200:\n",
        "        success += 1\n",
        "    else:\n",
        "        fail += 1\n",
        "\n",
        "print(\"Rows inserted: \" + str(success))\n",
        "if fail > 0:\n",
        "    print(\"Rows Failed: \" + str(fail))"
      ],
      "metadata": {
        "id": "Yt_MjDgjkQxF"
      },
      "execution_count": null,
      "outputs": []
    },
    {
      "cell_type": "markdown",
      "source": [
        "Query data from QuestDB"
      ],
      "metadata": {
        "id": "mx0nLUUwkUzK"
      }
    },
    {
      "cell_type": "code",
      "source": [
        "import requests\n",
        "import io\n",
        "\n",
        "r = requests.get(\"http://localhost:9000/exp?query=select * from weather\")\n",
        "rawData = r.text\n",
        "print(rawData)"
      ],
      "metadata": {
        "id": "8KY70TeikYnL"
      },
      "execution_count": null,
      "outputs": []
    },
    {
      "cell_type": "markdown",
      "source": [
        "Output\n",
        "\n",
        "\"tempF\",\"rain24H\",\"thunder\",\"timestamp\"\n",
        "-37,234.0,false,\"2020-08-24T11:41:37.191530Z\"\n",
        "-11,165.52,false,\"2020-08-24T11:41:37.195714Z\"\n",
        "-31,178.13,true,\"2020-08-24T11:41:37.202453Z\"\n",
        "14,31.470000000000,true,\"2020-08-24T11:41:37.208365Z\"\n",
        "33,83.31,true,\"2020-08-24T11:41:37.214347Z\""
      ],
      "metadata": {
        "id": "A8EzN5D5kbH1"
      }
    },
    {
      "cell_type": "markdown",
      "source": [
        "Convert to df"
      ],
      "metadata": {
        "id": "GId2P-j_kkrz"
      }
    },
    {
      "cell_type": "code",
      "source": [
        "import pandas as pd\n",
        "\n",
        "pData = pd.read_csv(io.StringIO(rawData), parse_dates=['timestamp'])\n",
        "print(pData)"
      ],
      "metadata": {
        "id": "VL56C9RvkUFL"
      },
      "execution_count": null,
      "outputs": []
    },
    {
      "cell_type": "markdown",
      "source": [
        "Output:\n",
        "\n",
        "      tempF  rain24H  thunder                        timestamp\n",
        "0       -37   234.00    False 2020-08-24 11:41:37.191530+00:00\n",
        "1       -11   165.52    False 2020-08-24 11:41:37.195714+00:00\n",
        "2       -31   178.13     True 2020-08-24 11:41:37.202453+00:00\n",
        "3        14    31.47     True 2020-08-24 11:41:37.208365+00:00\n",
        "4        33    83.31     True 2020-08-24 11:41:37.214347+00:00\n",
        "...     ...      ...      ...                              ...\n",
        "3995    -24   183.22    False 2020-08-24 11:58:32.164254+00:00\n",
        "3996      1   151.96     True 2020-08-24 11:58:32.166610+00:00\n",
        "3997    -40   213.86     True 2020-08-24 11:58:32.170839+00:00\n",
        "3998    -33   101.91     True 2020-08-24 11:58:32.173131+00:00\n",
        "3999    -38   182.98    False 2020-08-24 11:58:32.177191+00:00\n",
        "\n",
        "[4000 rows x 4 columns]"
      ],
      "metadata": {
        "id": "YetcGLV6knUW"
      }
    },
    {
      "cell_type": "markdown",
      "source": [
        "The query string must be URL-encoded before it is sent."
      ],
      "metadata": {
        "id": "rN8PDfKKkx90"
      }
    },
    {
      "cell_type": "code",
      "source": [
        "import urllib.parse\n",
        "\n",
        "q = \"select tempF,\"\\\n",
        "    \" rain24H,\"\\\n",
        "    \" timestamp\"\\\n",
        "    \" from weather\"\\\n",
        "\n",
        "query = urllib.parse.quote(q)\n",
        "r = requests.get(\"http://localhost:9000/exp?query=\" + query)\n",
        "queryData = r.content\n",
        "rawData = pd.read_csv(io.StringIO(queryData.decode('utf-8')))\n",
        "print(rawData)"
      ],
      "metadata": {
        "id": "OewVuEU0kqv1"
      },
      "execution_count": null,
      "outputs": []
    },
    {
      "cell_type": "markdown",
      "source": [
        "Output:\n",
        "\n",
        "      tempF  rain24H                    timestamp\n",
        "0       -37   234.00  2020-08-24T11:41:37.191530Z\n",
        "1       -11   165.52  2020-08-24T11:41:37.195714Z\n",
        "2       -31   178.13  2020-08-24T11:41:37.202453Z\n",
        "3        14    31.47  2020-08-24T11:41:37.208365Z\n",
        "4        33    83.31  2020-08-24T11:41:37.214347Z\n",
        "...     ...      ...                          ...\n",
        "3995    -24   183.22  2020-08-24T11:58:32.164254Z\n",
        "3996      1   151.96  2020-08-24T11:58:32.166610Z\n",
        "3997    -40   213.86  2020-08-24T11:58:32.170839Z\n",
        "3998    -33   101.91  2020-08-24T11:58:32.173131Z\n",
        "3999    -38   182.98  2020-08-24T11:58:32.177191Z\n",
        "\n",
        "[4000 rows x 3 columns]"
      ],
      "metadata": {
        "id": "6en8j_mRk1iN"
      }
    },
    {
      "cell_type": "markdown",
      "source": [
        "Plotting data using matplotlib"
      ],
      "metadata": {
        "id": "FlIalorYk-0-"
      }
    },
    {
      "cell_type": "code",
      "source": [
        "from matplotlib import pyplot as plt\n",
        "\n",
        "plt.bar(rawData['timestamp'], rawData['rain24H'])"
      ],
      "metadata": {
        "id": "e8gSy8vpk4a3"
      },
      "execution_count": null,
      "outputs": []
    },
    {
      "cell_type": "code",
      "source": [
        "from matplotlib import pyplot as plt\n",
        "\n",
        "plt.bar(rawData['timestamp'], rawData['tempF'])"
      ],
      "metadata": {
        "id": "5lGWRln5lEK6"
      },
      "execution_count": null,
      "outputs": []
    }
  ]
}